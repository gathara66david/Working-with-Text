{
 "cells": [
  {
   "cell_type": "code",
   "execution_count": null,
   "metadata": {
    "vscode": {
     "languageId": "plaintext"
    }
   },
   "outputs": [],
   "source": [
    "Practice some of what we've learned here on new data. You might collect\n",
    " some social media data using an API, such as from Reddit as we did in\n",
    " chapter 7, and apply some of the basic analysis (word count frequency\n",
    " plots), sentiment analysis, and topic modeling. You might also train your\n",
    " own sentiment or emotion classifier using a public dataset. If you create\n",
    " your own sentiment classifier, you can extract document vectors from the\n",
    " text and use that as features, which might give better results than using\n",
    " TFIDF vectors. However, be careful to use similar training data to the data\n",
    " you will use the classifier on (for example, train the classifier on social\n",
    " media data if that is the application)"
   ]
  }
 ],
 "metadata": {
  "language_info": {
   "name": "python"
  }
 },
 "nbformat": 4,
 "nbformat_minor": 2
}
